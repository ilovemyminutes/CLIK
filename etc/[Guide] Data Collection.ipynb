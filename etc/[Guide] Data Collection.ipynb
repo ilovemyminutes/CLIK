{
 "cells": [
  {
   "cell_type": "code",
   "execution_count": null,
   "id": "17c522c4",
   "metadata": {},
   "outputs": [],
   "source": [
    "import sys\n",
    "import os\n",
    "import pandas as pd\n",
    "pd.set_option('display.max_columns', 30)\n",
    "\n",
    "sys.path.insert(0, '../')\n",
    "from data_collection import (\n",
    "    PlanDataCollector,       # raw 데이터 수집\n",
    "    collect_click_logs,      # 클릭로그 수집\n",
    "    attach_ctr_label,        # CTR annotation\n",
    "    PlanDataRefiner,         # 데이터 정제\n",
    "    train_valid_test_split   # 학습/검증/테스트 데이터 split\n",
    ")"
   ]
  },
  {
   "cell_type": "markdown",
   "id": "df0a2e8c",
   "metadata": {},
   "source": [
    "# Plan Data Collection\n",
    "\n",
    "*  기획전 raw 데이터 수집\n",
    "* 데이터 수집 후 디렉토리 구성 (`CORE`: 학습에 직접적으로 활용됨)\n",
    "```shell\n",
    "data/                      # 수집 후 기본 디렉토리명: '{START_DATE}_{END_DATE}' (ex. '2022-01-22_2022-01-23')\n",
    "├plan_data/                # 기획전 관련 데이터\n",
    "│  ├plan_section_meta/     # 각 기획전 내 섹션별 메타 데이터\n",
    "│  └plan_data_all.csv      # 기획전 메타 데이터\n",
    "├prod_data/                # 상품 관련 데이터\n",
    "│  ├images/                # (CORE) 상품 이미지 디렉토리\n",
    "│  ├prod_img_meta/         # 이미지 URL 등 상품 이미지 메타 데이터 디렉토리 \n",
    "│  ├prod_ocr_meta/         # 상품 이미지 내 OCR 데이터 디렉토리\n",
    "│  ├prod_data_all.csv      # 상품 메타 데이터\n",
    "│  └prod_section_names.pkl # 상품의 소속 섹션명 정보\n",
    "└raw.csv                   # (CORE) 학습용 raw 데이터\n",
    "```"
   ]
  },
  {
   "cell_type": "code",
   "execution_count": null,
   "id": "d3448ad0",
   "metadata": {},
   "outputs": [],
   "source": [
    "# 기획전 수집 기간 (노출일 기준 필터링)\n",
    "start_date = \"2021-12-30\"\n",
    "end_date = \"2021-12-31\"\n",
    "\n",
    "# raw 데이터 저장 디렉토리\n",
    "save_dir = \"./test/\"\n",
    "\n",
    "# True: 상품 이미지를 리사이즈(512x512)하여 수집 (False: 원본 크기로 저장)\n",
    "pre_resize = True"
   ]
  },
  {
   "cell_type": "code",
   "execution_count": null,
   "id": "4230191e",
   "metadata": {
    "scrolled": true
   },
   "outputs": [],
   "source": [
    "# 참고: 삭제/판매중지 등의 이슈로 데이터를 온전히 수집할 수 없는 상품은 버림\n",
    "collector = PlanDataCollector()\n",
    "raw = collector.collect(\n",
    "    start_date,             # 수집 시작일\n",
    "    end_date,               # 수집 말일\n",
    "    save_dir,               # raw 데이터 저장 디렉토리\n",
    "    pre_resize=pre_resize,  # True: 이미지 저장 시 512x512로 일괄 리사이즈\n",
    "    return_data=True        # True: raw 데이터를 저장 후 해당 데이터를 곧바로 return\n",
    ")"
   ]
  },
  {
   "cell_type": "code",
   "execution_count": null,
   "id": "f260a04d",
   "metadata": {},
   "outputs": [],
   "source": [
    "raw.sample()"
   ]
  },
  {
   "cell_type": "markdown",
   "id": "914325a1",
   "metadata": {},
   "source": [
    "# Click Logs Collection & CTR Annotation\n",
    "* 클릭 로그 수집 및 `Plan Data Collection`에서 얻은 `raw` 데이터에 CTR 어노테이션\n",
    "* ***NOTE.*** 클릭 로그 수집을 위해서는 데이터 접근 권한 key가 필요"
   ]
  },
  {
   "cell_type": "code",
   "execution_count": null,
   "id": "118b81cf",
   "metadata": {},
   "outputs": [],
   "source": [
    "# 클릭 로그 수집 기간\n",
    "start_date = \"2021-12-30\"\n",
    "end_date = \"2021-12-31\"\n",
    "\n",
    "# key\n",
    "key = {\n",
    "    'location': '[LOCATION]',\n",
    "    'ticket': '[YOUR_TICKET]',\n",
    "    'principal': '[PRINCIPAL_INFO]',\n",
    "    'keytab_file': '[KEYTAB_FILE_PATH]',\n",
    "    'config': '[CONFIG_INFO]'\n",
    "}\n",
    "\n",
    "# 저장 디렉토리\n",
    "save_dir = \"./test_click_logs/\""
   ]
  },
  {
   "cell_type": "code",
   "execution_count": null,
   "id": "d3017392",
   "metadata": {},
   "outputs": [],
   "source": [
    "click_logs = collect_click_logs(\n",
    "    start_date=start_date,   # 수집 시작일\n",
    "    end_date=end_date,       # 수집 말일\n",
    "    key=key,                 # 데이터 액세스를 위한 key 정보\n",
    "    save_dir=save_dir,       # 수집한 데이터 저장 디렉토리\n",
    "    return_data=True         # True: 클릭 로그 데이터 저장 후 해당 데이터를 곧바로 return\n",
    ")\n",
    "click_logs.head()"
   ]
  },
  {
   "cell_type": "markdown",
   "id": "00bbf6fd",
   "metadata": {},
   "source": [
    "### `ctr` Annotation"
   ]
  },
  {
   "cell_type": "code",
   "execution_count": null,
   "id": "bb987f1a",
   "metadata": {},
   "outputs": [],
   "source": [
    "raw_labeled = attach_ctr_label(raw, click_logs=click_logs)"
   ]
  },
  {
   "cell_type": "markdown",
   "id": "9e9d6093",
   "metadata": {},
   "source": [
    "# Data Refinement\n",
    "* CLIK 학습에 맞는 학습 데이터 구성\n",
    "* target 및 기타 설정값에 따라 데이터를 정제함\n",
    "* 타깃으로 활용할 만한 컬럼\n",
    "  * `prod_review_cnt`: 리뷰수\n",
    "  * `prod_zzim_cnt`: 찜수\n",
    "  * `prod_sale_cnt`: 판매수\n",
    "  * `ctr`: CTR\n",
    "  \n",
    "* 정제 절차\n",
    "  * I. (optional) 각 기획전으로부터 `K`개 상품을 샘플링\n",
    "  * II. `target`이(가) 0보다 큰 상품이 `N`개 이상인 기획전만 추출\n",
    "  * III. `target`에 대한 uniqueness가 `M` 이상인 기획전만 추출"
   ]
  },
  {
   "cell_type": "code",
   "execution_count": null,
   "id": "96860fda",
   "metadata": {},
   "outputs": [],
   "source": [
    "refine_rule = dict(\n",
    "    target='ctr',          # 학습에 활용할 타깃컬럼 ('ctr', 'prod_review_cnt', ...)\n",
    "    sample_size=None,      # 각 기획전으로부터 {sample_size}개의 상품을 샘플링 (None: 무제한)\n",
    "    min_nonzero_num=5,     # target이 non-zero인 상품이 {min_nonzero_num}개 이상인 기획전만 필터링\n",
    "    unique_constraint=2,   # target의 uniqueness가 {unique_constraint} 이하 기획전 제거\n",
    ")\n",
    "seed = 27                  # 랜덤시드\n",
    "\n",
    "refiner = PlanDataRefiner(\n",
    "    rule=refine_rule,      # 정제 규칙\n",
    "    seed=seed              # 랜덤시드\n",
    ")"
   ]
  },
  {
   "cell_type": "code",
   "execution_count": null,
   "id": "75bfc6c5",
   "metadata": {
    "scrolled": true
   },
   "outputs": [],
   "source": [
    "raw_refined = refiner.sift(\n",
    "    raw_labeled, \n",
    "    verbose=True # True: 정제 중 카테고리별 빈도 출력\n",
    ")"
   ]
  },
  {
   "cell_type": "markdown",
   "id": "8a3b95a6",
   "metadata": {},
   "source": [
    "* (참고) 학습 데이터는 다음과 같은 데이터프레임을 활용함"
   ]
  },
  {
   "cell_type": "code",
   "execution_count": null,
   "id": "fbaa1278",
   "metadata": {},
   "outputs": [],
   "source": [
    "columns = [\n",
    "    \"plan_id\",          # 기획전 ID\n",
    "    \"plan_name\",        # 기획전명\n",
    "    \"plan_startdate\",   # 기획전 게시일자\n",
    "    \"plan_cat1\",        # 기획전 카테고리(depth=1)\n",
    "    \"plan_cat2\",        # 기획전 카테고리(depth=2)\n",
    "    \"plan_kwds\",        # 기획전 키워드\n",
    "    \"prod_name\",        # 상품명\n",
    "    \"prod_text\",        # 상품상세\n",
    "    \"prod_opendate\",    # 상품 게시일자\n",
    "    \"prod_cat1\",        # 상품 카테고리(depth=1)\n",
    "    \"prod_cat2\",        # 상품 카테고리(depth=2)\n",
    "    \"prod_cat3\",        # 상품 카테고리(depth=3)\n",
    "    \"prod_cat4\",        # 상품 카테고리(depth=4)\n",
    "    \"prod_page_title\",  # 상품 페이지명\n",
    "    \"ctr\"               # 타깃컬럼\n",
    "]\n",
    "raw_refined[columns].sample()"
   ]
  },
  {
   "cell_type": "markdown",
   "id": "8c1a51d4",
   "metadata": {},
   "source": [
    "# Train Valid Test Split\n",
    "* 정제를 마친 뒤 학습/검증/테스트 데이터 split"
   ]
  },
  {
   "cell_type": "code",
   "execution_count": null,
   "id": "b023308b",
   "metadata": {
    "scrolled": false
   },
   "outputs": [],
   "source": [
    "train_size = 0.7     # 학습 데이터 비율\n",
    "valid_size = 0.2     # 검증 데이터 비율\n",
    "test_size = 0.1      # 테스트 데이터 비율 (0으로 설정 시 학습/검증 데이터로만 분리됨)\n",
    "eval_cutoff = True   # True: 검증/테스트 내 기획전의 상품을 50개로 한정 (샘플링으로 인한 가변적인 평가 방지)\n",
    "target = 'ctr'       # 타깃컬럼\n",
    "deleakage = True     # True: 학습 <-> 검증/테스트 간 leakage 제거\n",
    "seed = 27            # 랜덤시드\n",
    "\n",
    "train, valid, test = train_valid_test_split(\n",
    "    meta=raw_refined, \n",
    "    train_size=train_size, \n",
    "    valid_size=valid_size, \n",
    "    test_size=test_size,\n",
    "    eval_cutoff=eval_cutoff,\n",
    "    target=target,\n",
    "    deleakage=deleakage,\n",
    "    random_state=seed\n",
    ")"
   ]
  },
  {
   "cell_type": "markdown",
   "id": "dc2f8750",
   "metadata": {},
   "source": [
    "* 최종 정제 학습/검증/테스트 데이터 저장"
   ]
  },
  {
   "cell_type": "code",
   "execution_count": null,
   "id": "df6288df",
   "metadata": {},
   "outputs": [],
   "source": [
    "save_dir = \"./test/2021-12-30_2021-12-31/\"\n",
    "train.to_csv(os.path.join(save_dir, \"train.csv\"), index=False)\n",
    "valid.to_csv(os.path.join(save_dir, \"valid.csv\"), index=False)\n",
    "test.to_csv(os.path.join(save_dir, \"test.csv\"), index=False)"
   ]
  }
 ],
 "metadata": {
  "kernelspec": {
   "display_name": "venv_jhko",
   "language": "python",
   "name": ".venv"
  },
  "language_info": {
   "codemirror_mode": {
    "name": "ipython",
    "version": 3
   },
   "file_extension": ".py",
   "mimetype": "text/x-python",
   "name": "python",
   "nbconvert_exporter": "python",
   "pygments_lexer": "ipython3",
   "version": "3.6.9"
  }
 },
 "nbformat": 4,
 "nbformat_minor": 5
}
